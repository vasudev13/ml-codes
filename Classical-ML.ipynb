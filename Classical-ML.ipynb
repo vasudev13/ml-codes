{
 "cells": [
  {
   "cell_type": "markdown",
   "id": "32f4374d-71ec-408c-8229-85cef276bc88",
   "metadata": {},
   "source": [
    "# Implementations (v1)\n",
    "## Classical Machine Learning Algorithms\n",
    "\n",
    "- [x] K-Nearest Neighbours\n",
    "- [ ] K-Means\n",
    "- [x] Linear Regression\n",
    "- [x] Logistic Regression\n",
    "- [ ] Naive Bayes\n",
    "- [ ] Decision Tree\n",
    "- [ ] Random Forest\n",
    "\n",
    "---\n",
    "\n",
    "## Supplementary \n",
    "\n",
    "- Mean-Squarred Error Loss\n",
    "- Binary Cross Entropy"
   ]
  },
  {
   "cell_type": "code",
   "execution_count": 1,
   "id": "91fded2d-5ed4-427b-af1c-380b4cf34b6f",
   "metadata": {},
   "outputs": [],
   "source": [
    "import numpy as np\n",
    "import matplotlib.pyplot as plt\n",
    "import scipy\n",
    "import heapq, collections"
   ]
  },
  {
   "cell_type": "markdown",
   "id": "5549739e-828d-4a7c-b88a-952e95ae620f",
   "metadata": {},
   "source": [
    "### Data"
   ]
  },
  {
   "cell_type": "code",
   "execution_count": 2,
   "id": "94790cad-0b4f-4007-87b2-78131783c026",
   "metadata": {},
   "outputs": [],
   "source": [
    "from sklearn.datasets import make_classification, make_regression\n",
    "class_x, class_y = make_classification(n_samples = 1000, n_features = 32, n_classes=5, n_informative = 16)\n",
    "binclass_x, binclass_y = make_classification(n_samples = 1000, n_features = 32, n_classes=2)\n",
    "reg_x, reg_y = make_regression(n_samples = 1000, n_features = 32,)"
   ]
  },
  {
   "cell_type": "markdown",
   "id": "6d93c356-6f7a-4d07-8de5-5bec65373558",
   "metadata": {},
   "source": [
    "## K-Nearest Neighbours"
   ]
  },
  {
   "cell_type": "code",
   "execution_count": 3,
   "id": "074851f1-6e73-4d1d-bd47-fbc3dd578352",
   "metadata": {},
   "outputs": [],
   "source": [
    "class KNearestNeighbour:\n",
    "      \n",
    "    def __init__(self, k:int, distance_fn = None):\n",
    "        self.k = k\n",
    "        self.distance_fn = distance_fn if distance_fn else self._euclidean_distance\n",
    "  \n",
    "    def fit(self, X:np.ndarray, Y:np.ndarray):\n",
    "        self.X = X\n",
    "        self.Y = Y\n",
    "    \n",
    "    def _euclidean_distance(self, xᵢ, xⱼ):\n",
    "#         Alternatively use scipy.spatial.distance.euclidean(xᵢ, xⱼ) or np.norm(np.sqrt(xᵢ - xⱼ), ord = 2)\n",
    "        return np.sqrt(np.sum( np.square(xᵢ - xⱼ)))\n",
    "    \n",
    "    def _vote(self, neighbours):\n",
    "        vote_count = collections.OrderedDict({})\n",
    "        for (distance, yᵢ) in neighbours:\n",
    "            vote_count[yᵢ] = vote_count.get(yᵢ, 0) + 1\n",
    "        return vote_count.popitem(last = False)[0]\n",
    "\n",
    "    def predict(self, x̂ᵢ) -> int:\n",
    "        distances = []\n",
    "        for xᵢ,yᵢ in zip(self.X, self.Y):\n",
    "            heapq.heappush(distances, (self._euclidean_distance(xᵢ, x̂ᵢ), yᵢ))\n",
    "        neighbours = heapq.nsmallest(self.k, distances)\n",
    "        ŷᵢ = self._vote(neighbours)\n",
    "        return ŷᵢ"
   ]
  },
  {
   "cell_type": "code",
   "execution_count": 4,
   "id": "ca13c6f5-5298-437c-8317-11f6fab4944b",
   "metadata": {},
   "outputs": [
    {
     "data": {
      "text/plain": [
       "(0, 0)"
      ]
     },
     "execution_count": 4,
     "metadata": {},
     "output_type": "execute_result"
    }
   ],
   "source": [
    "knn = KNearestNeighbour(5)\n",
    "knn.fit(class_x, class_y)\n",
    "knn.predict(class_x[0]), class_y[0]"
   ]
  },
  {
   "cell_type": "markdown",
   "id": "1a164c27-f266-46f5-99b8-3da3665edf15",
   "metadata": {},
   "source": [
    "## K-Means"
   ]
  },
  {
   "cell_type": "code",
   "execution_count": 5,
   "id": "e3100b99-3598-44d3-b62c-9f0dab4657b6",
   "metadata": {},
   "outputs": [],
   "source": [
    "class KMeans:\n",
    "    \n",
    "    def __init__(self, k:int = 5, distance_fn = None, epochs:int = 500):\n",
    "        self.k = k\n",
    "        self.distance_fn = distance_fn if distance_fn else self._euclidean_distance\n",
    "        self.epochs = epochs\n",
    "        \n",
    "    def _iterate(self):\n",
    "        μbuckets = {}\n",
    "        for xᵢ in self.X:\n",
    "            d̃min = float('inf')\n",
    "            μclosest = self._forward(xᵢ)\n",
    "            μbuckets[μclosest] = μbuckets.get(μclosest,[]) + [xᵢ]\n",
    "        self.μlist = []\n",
    "        for μ, bucket in μbuckets.items():\n",
    "            np_bucket = np.asarray(bucket)\n",
    "            μnew = np.asarray([np.mean(np_bucket[:,0]), np.mean(np_bucket[:,1])])\n",
    "            self.μlist.append(μnew)\n",
    "                \n",
    "    def _train(self):\n",
    "        for epoch in range(self.epochs):\n",
    "            self._iterate()\n",
    "    \n",
    "    def _euclidean_distance(self, xᵢ, xⱼ):\n",
    "        return np.sqrt(np.sum( np.square(xᵢ - xⱼ)))\n",
    "    \n",
    "    \n",
    "    def _forward(self, xᵢ):\n",
    "        d̃min = float('inf')\n",
    "        μclosest = None\n",
    "        for μ in self.μlist:\n",
    "            d̃current = self.distance_fn(μ, xᵢ) \n",
    "            if d̃current < d̃min:\n",
    "                d̃min = d̃current\n",
    "                μclosest = μ\n",
    "#         print(μclosest,tuple(μclosest.tolist()))\n",
    "        return tuple(μclosest.tolist())\n",
    "    \n",
    "    def predict(self, X):\n",
    "        return np.asarray([self._forward(xᵢ) for xᵢ in X])\n",
    "    \n",
    "    def fit(self, X):\n",
    "        self.X = X\n",
    "        self.μlist = self.X[np.random.choice(len(self.X), size=self.k)]\n",
    "        self._train()\n",
    "        "
   ]
  },
  {
   "cell_type": "code",
   "execution_count": 6,
   "id": "4f607217-883a-4f6d-b413-f1802a70c98a",
   "metadata": {},
   "outputs": [],
   "source": [
    "kmeans_x, kmeans_y = make_classification(n_samples = 500, n_features = 2, n_classes=2, n_redundant = 0,  n_informative = 2, n_repeated = 0 )"
   ]
  },
  {
   "cell_type": "code",
   "execution_count": 7,
   "id": "673145af-5e9c-45d8-9c1a-73fc86dc2a75",
   "metadata": {},
   "outputs": [],
   "source": [
    "kmeans = KMeans(k = 2, epochs=500)\n",
    "kmeans.fit(kmeans_x)"
   ]
  },
  {
   "cell_type": "code",
   "execution_count": 22,
   "id": "309155f7-e92c-4ef4-993a-e14880348476",
   "metadata": {},
   "outputs": [
    {
     "data": {
      "image/png": "[encoded data removed]",
      "text/plain": [
       "<Figure size 432x288 with 1 Axes>"
      ]
     },
     "metadata": {
      "needs_background": "light"
     },
     "output_type": "display_data"
    }
   ],
   "source": [
    "kmeans.μlist = np.asarray(list(map(lambda x : list(x),kmeans.μlist)))\n",
    "plt.scatter(kmeans_x[kmeans_y==0][:,0],kmeans_x[kmeans_y==0][:,1], c ='green')\n",
    "plt.scatter(kmeans_x[kmeans_y==1][:,0],kmeans_x[kmeans_y==1][:,1])\n",
    "plt.scatter(kmeans.μlist[:,0],kmeans.μlist[:,1], marker='^', s=300, c = 'red')\n",
    "plt.show()"
   ]
  },
  {
   "cell_type": "markdown",
   "id": "55d90e31-1416-41af-ada9-6c1640d71ec1",
   "metadata": {},
   "source": [
    "## Linear Regression\n",
    "\n",
    "**Forward:**\n",
    "$$ \\hat{y}_i = wx_i + b $$\n",
    "**Mean Squarred Error (MSE):** $$ \\ell = \\frac{1}{n}\\sum_i^n(y_i- \\hat{y}_i)^2$$\n",
    "\n",
    "**Gradient:**\n",
    "$$ \\frac{\\partial \\ell}{\\partial w} = -(Y - \\hat{Y}) X$$\n",
    "$$ \\frac{\\partial \\ell}{\\partial b} = -(Y - \\hat{Y})$$\n",
    "\n",
    "**Update:**\n",
    "$$w_{i} = w_{i-1} - \\alpha\\frac{\\partial \\ell}{\\partial w}X$$\n",
    "$$b_{i} = b_{i-1} - \\alpha\\frac{\\partial \\ell}{\\partial b}$$"
   ]
  },
  {
   "cell_type": "code",
   "execution_count": 9,
   "id": "ad53b3a1-fcb7-4029-bb8e-8a00b9a87b2c",
   "metadata": {},
   "outputs": [],
   "source": [
    "class MeanSquarredError:\n",
    "    \n",
    "    def _mse(self,Y, Ŷ):\n",
    "        ℓ = np.mean(np.square(np.subtract(Y, Ŷ)))\n",
    "        return ℓ\n",
    "    \n",
    "    def __init__(self):\n",
    "        pass\n",
    "    \n",
    "    def compute(self, Y, Ŷ):\n",
    "        return self._mse(Y, Ŷ)"
   ]
  },
  {
   "cell_type": "code",
   "execution_count": 10,
   "id": "751a8a2b-f4a4-463c-80a1-a804c06d46ce",
   "metadata": {},
   "outputs": [],
   "source": [
    "class LinearRegression:\n",
    "    \n",
    "    def __init__(self, epochs:int = 500, loss = None, α:float = 1e-3):\n",
    "        self.w = self.b = None\n",
    "        self.loss = loss\n",
    "        self.epochs = epochs\n",
    "        self.α = α\n",
    "        \n",
    "    def _forward(self, X):\n",
    "        # np.multiply perform elementwise mulitplication of X with vector w, equivalent: self.w * self.X, so avoid using loop as w is broadcasted.\n",
    "        Ŷ = np.add(np.dot(X, self.w), self.b)\n",
    "        return Ŷ\n",
    "    \n",
    "    def _grad(self, Ŷ):\n",
    "        # think in terms of colum picture matrix: (32,1000) X (1000,): each component corresponding to a wᵢ ( which 1000,) has been multiplied by the residual of shape (1000,)\n",
    "        self.Δℓw = np.matmul(np.transpose(-self.X), np.subtract(self.Y, Ŷ))\n",
    "        self.Δℓb = np.matmul(np.full((*self.b.shape,self.X.shape[0]),-1), np.subtract(self.Y, Ŷ))\n",
    "    \n",
    "    def _step(self):\n",
    "        self.w = self.w -  (self.α * self.Δℓw)\n",
    "        self.b = self.b -  (self.α * self.Δℓb)\n",
    "        \n",
    "    def _iterate(self):\n",
    "        Ŷ = self._forward(self.X)\n",
    "        ℓ = self.loss.compute(self.Y, Ŷ)\n",
    "        self._grad(Ŷ)\n",
    "        self._step()\n",
    "        return ℓ\n",
    "    \n",
    "    def _train(self):\n",
    "        self.loss_dict = collections.OrderedDict({})\n",
    "        for epoch in range(1, self.epochs+1):\n",
    "            ℓ = self._iterate()\n",
    "            self.loss_dict[epoch] = ℓ \n",
    "        \n",
    "    def fit(self, X:np.ndarray, Y:np.ndarray):\n",
    "        self.X = X\n",
    "        self.Y = Y\n",
    "        if len(self.Y.shape) > 1:\n",
    "            self.w = np.random.rand(self.X.shape[1] * self.Y.shape[1])\n",
    "            self.b = np.random.rand(self.Y.shape[1:])\n",
    "        else:\n",
    "            self.w = np.random.randn(self.X.shape[1])\n",
    "            self.b = np.random.rand(1)\n",
    "        self._train()\n",
    "    \n",
    "    def predict(self, x̂ᵢ):\n",
    "        ŷᵢ = self._forward(x̂ᵢ)\n",
    "        return ŷᵢ"
   ]
  },
  {
   "cell_type": "code",
   "execution_count": 11,
   "id": "4d955fe6-7f77-42a1-b7d7-6c2de6053412",
   "metadata": {},
   "outputs": [],
   "source": [
    "lr = LinearRegression( loss = MeanSquarredError())\n",
    "lr.fit(reg_x, reg_y)"
   ]
  },
  {
   "cell_type": "code",
   "execution_count": 12,
   "id": "7bcd98e6-2a52-40fa-b301-96878644de8f",
   "metadata": {},
   "outputs": [
    {
     "data": {
      "text/plain": [
       "(array([261.78709052]), 261.78709051847363)"
      ]
     },
     "execution_count": 12,
     "metadata": {},
     "output_type": "execute_result"
    }
   ],
   "source": [
    "lr.predict(reg_x[0]),reg_y[0]"
   ]
  },
  {
   "cell_type": "markdown",
   "id": "ee9240d9-084c-466c-b7cf-23936579fdf0",
   "metadata": {},
   "source": [
    "## Binary Cross Entropy\n",
    "\n",
    "$$\\ell_{BCE} (y,\\hat{y}) =  \\frac{1}{n}\\sum_i^n y_i\\log \\hat{y_i} + (1-y_i)\\log (1-\\hat{y_i})$$"
   ]
  },
  {
   "cell_type": "code",
   "execution_count": 13,
   "id": "d26672a9-4c9c-4e93-8231-00f90c440f03",
   "metadata": {},
   "outputs": [],
   "source": [
    "class BinaryCrossEntropy:\n",
    "    \n",
    "    def _bce(self,Y, Ŷ):\n",
    "        ℓ = - np.mean(\n",
    "            (Y * np.log(Ŷ)) + \n",
    "            (1-Y * np.log(1-Ŷ))\n",
    "        )\n",
    "        return ℓ\n",
    "    \n",
    "    def __init__(self):\n",
    "        pass\n",
    "    \n",
    "    def compute(self, Y, Ŷ):\n",
    "        return self._bce(Y, Ŷ)"
   ]
  },
  {
   "cell_type": "markdown",
   "id": "62405351-8eda-4688-a210-e8e76a0dc236",
   "metadata": {},
   "source": [
    "## Logistic Regression\n",
    "\n",
    "**Forward:**\n",
    "$$ \\hat{y}_i = \\sigma(wx_i + b)$$\n",
    "**Binary Cross Entropy (BCE):** $$ \\ell = \\frac{1}{n}\\sum_i^n(y_i- \\hat{y}_i)^2$$\n",
    "\n",
    "**Gradient:**\n",
    "$$ \\frac{\\partial \\ell}{\\partial w} = -(Y - \\hat{Y}) X$$\n",
    "$$ \\frac{\\partial \\ell}{\\partial b} = -(Y - \\hat{Y})$$\n",
    "\n",
    "**Update:**\n",
    "$$w_{i} = w_{i-1} - \\frac{\\partial \\ell}{\\partial w}X$$\n",
    "$$b_{i} = b_{i-1} - \\frac{\\partial \\ell}{\\partial b}$$"
   ]
  },
  {
   "cell_type": "code",
   "execution_count": 14,
   "id": "e9256509-c2b7-45ac-b9bf-db0645ed34d1",
   "metadata": {},
   "outputs": [],
   "source": [
    "class LogisticRegression:\n",
    "    \n",
    "    def __init__(self, epochs:int = 100, loss_fn = None, α:float = 1e-3, Θ:float = 0.5):\n",
    "        self.w = self.b = None\n",
    "        self.loss_fn = loss_fn\n",
    "        self.epochs = epochs\n",
    "        self.α = α\n",
    "        self.Θ = Θ\n",
    "        \n",
    "    def σ(self, Ƶ):\n",
    "        return 1/(1 + np.exp(-Ƶ))\n",
    "    \n",
    "    def Δσ(self, Ƶ):\n",
    "        return self.σ(Ƶ) * (1-self.σ(Ƶ))\n",
    "    \n",
    "    def _forward(self, X):\n",
    "        Ƶ = np.dot(X, self.w) + self.b\n",
    "        return Ƶ\n",
    "    \n",
    "    def _grad(self, Ŷ, Ƶ):\n",
    "        self.Δℓw = np.matmul(\n",
    "            np.transpose(self.X),\n",
    "            (self.Δσ(Ƶ) * ( (1 - self.Y/ 1- Ŷ) -  (self.Y/Ŷ) ))\n",
    "        )\n",
    "        self.Δℓb = np.matmul(\n",
    "            np.full((*self.b.shape, self.X.shape[0]), 1),\n",
    "            (self.Δσ(Ƶ) * ( (1 - self.Y/ 1- Ŷ) -  (self.Y/Ŷ) ))\n",
    "        )\n",
    "    \n",
    "    def _step(self):\n",
    "        self.w = self.w - (self.α * self.Δℓw)\n",
    "        self.b = self.b -  (self.α * self.Δℓb)\n",
    "        \n",
    "    def _iterate(self):\n",
    "        Ƶ =self._forward(self.X)\n",
    "        Ŷ = self.σ(Ƶ)\n",
    "        ℓ = self.loss_fn.compute(self.Y, Ŷ)\n",
    "        self._grad(Ŷ, Ƶ)\n",
    "        self._step()\n",
    "        return ℓ\n",
    "    \n",
    "    def _train(self):\n",
    "        self.loss_dict = collections.OrderedDict({})\n",
    "        for epoch in range(1, self.epochs+1):\n",
    "            ℓ = self._iterate()\n",
    "            self.loss_dict[epoch] = ℓ \n",
    "        \n",
    "    def fit(self, X:np.ndarray, Y:np.ndarray):\n",
    "        self.X = X\n",
    "        self.Y = Y\n",
    "        if len(self.Y.shape) > 1:\n",
    "            self.w = np.random.rand(self.X.shape[1] * self.Y.shape[1])\n",
    "            self.b = np.random.rand(self.Y.shape[1:])\n",
    "        else:\n",
    "            self.w = np.random.randn(self.X.shape[1])\n",
    "            self.b = np.random.rand(1)\n",
    "        self._train()\n",
    "    \n",
    "    def predict(self, x̂ᵢ):\n",
    "        Ƶ =self._forward(x̂ᵢ)\n",
    "        ŷᵢ = self.σ(Ƶ)\n",
    "        return 1 if ŷᵢ >= self.Θ else 0"
   ]
  },
  {
   "cell_type": "code",
   "execution_count": 15,
   "id": "91e36f97-98e8-481d-868c-8c8dda375f92",
   "metadata": {},
   "outputs": [],
   "source": [
    "lr = LogisticRegression(loss_fn = BinaryCrossEntropy())\n",
    "lr.fit(binclass_x, binclass_y)"
   ]
  },
  {
   "cell_type": "code",
   "execution_count": 16,
   "id": "69a24d42-17ee-4802-8bad-d418ed618b9d",
   "metadata": {},
   "outputs": [
    {
     "data": {
      "text/plain": [
       "(0, 0)"
      ]
     },
     "execution_count": 16,
     "metadata": {},
     "output_type": "execute_result"
    }
   ],
   "source": [
    "lr.predict(binclass_x[0]),binclass_y[0]"
   ]
  },
  {
   "cell_type": "markdown",
   "id": "ac447817-ec54-4312-a4f3-1b6aca43efe7",
   "metadata": {},
   "source": [
    "## Decision Tree"
   ]
  },
  {
   "cell_type": "code",
   "execution_count": null,
   "id": "194bc717-baa8-4ede-9885-f46692a2a58b",
   "metadata": {},
   "outputs": [],
   "source": []
  }
 ],
 "metadata": {
  "kernelspec": {
   "display_name": "Python 3",
   "language": "python",
   "name": "python3"
  },
  "language_info": {
   "codemirror_mode": {
    "name": "ipython",
    "version": 3
   },
   "file_extension": ".py",
   "mimetype": "text/x-python",
   "name": "python",
   "nbconvert_exporter": "python",
   "pygments_lexer": "ipython3",
   "version": "3.8.8"
  }
 },
 "nbformat": 4,
 "nbformat_minor": 5
}
